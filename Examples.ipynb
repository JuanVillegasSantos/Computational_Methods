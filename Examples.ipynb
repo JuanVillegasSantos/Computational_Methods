{
 "cells": [
  {
   "cell_type": "markdown",
   "metadata": {},
   "source": [
    "## 1.2.1 "
   ]
  },
  {
   "cell_type": "markdown",
   "metadata": {},
   "source": [
    "$u_t=-\\lambda u\\\\ \\Rightarrow u e^{\\lambda t}=C$"
   ]
  },
  {
   "cell_type": "markdown",
   "metadata": {},
   "source": [
    "And u(0)=1 then C=1 $\\Rightarrow ue^{\\lambda t}=1$"
   ]
  },
  {
   "cell_type": "markdown",
   "metadata": {},
   "source": [
    "Now for h=3, A=4, $\\rho=10$, V=9 and c=1 and $\\lambda=\\frac{hA}{\\rho Vc}$"
   ]
  },
  {
   "cell_type": "code",
   "execution_count": 7,
   "metadata": {},
   "outputs": [],
   "source": [
    "import numpy as np\n",
    "import matplotlib.pyplot as plt"
   ]
  },
  {
   "cell_type": "code",
   "execution_count": 5,
   "metadata": {},
   "outputs": [],
   "source": [
    "t=np.linspace(0,10)\n",
    "h=3;A=4;rho=10;V=9;c=1\n",
    "lamda=h*A/(rho*V*c)"
   ]
  },
  {
   "cell_type": "code",
   "execution_count": 6,
   "metadata": {},
   "outputs": [],
   "source": [
    "u=1/np.exp(lamda*t)"
   ]
  },
  {
   "cell_type": "code",
   "execution_count": 13,
   "metadata": {},
   "outputs": [
    {
     "data": {
      "image/png": "[encoded data removed]",
      "text/plain": [
       "<matplotlib.figure.Figure at 0x27bff8d1978>"
      ]
     },
     "metadata": {},
     "output_type": "display_data"
    }
   ],
   "source": [
    "plt.plot(t,u);plt.grid()"
   ]
  },
  {
   "cell_type": "code",
   "execution_count": 23,
   "metadata": {
    "scrolled": false
   },
   "outputs": [
    {
     "data": {
      "text/plain": [
       "0.7659283383646487"
      ]
     },
     "execution_count": 23,
     "metadata": {},
     "output_type": "execute_result"
    }
   ],
   "source": [
    "u_2=1/np.exp(lamda*2)\n",
    "u_2"
   ]
  },
  {
   "cell_type": "markdown",
   "metadata": {},
   "source": [
    "## 1.2.4"
   ]
  },
  {
   "cell_type": "code",
   "execution_count": 48,
   "metadata": {},
   "outputs": [
    {
     "name": "stderr",
     "output_type": "stream",
     "text": [
      "C:\\Users\\user\\Anaconda3\\lib\\site-packages\\ipykernel_launcher.py:10: RuntimeWarning: divide by zero encountered in double_scalars\n",
      "  # Remove the CWD from sys.path while we load stuff.\n",
      "C:\\Users\\user\\Anaconda3\\lib\\site-packages\\ipykernel_launcher.py:11: RuntimeWarning: invalid value encountered in double_scalars\n",
      "  # This is added back by InteractiveShellApp.init_path()\n"
     ]
    }
   ],
   "source": [
    "u_0=0;g=9.8;mu=1.69*10**(-5); rhoa=0.9;rhop=917;a=0.01\n",
    "volp=4*np.pi*a**3/3; mp=rhop*volp\n",
    "t=np.arange(0,25,0.25)\n",
    "t=t[::-1]\n",
    "Re=np.zeros(np.shape(t)[0]);cd=np.zeros(np.shape(t)[0]);v=np.zeros(np.shape(t)[0])\n",
    "D=np.zeros(np.shape(t)[0])\n",
    "D[0]=mp*g; v[0]=g-(D[0]/mp); Re[0]=2*rhoa*v[0]*a/mu\n",
    "for i in range(1,np.shape(t)[0]):\n",
    "    Re[i]=2*rhoa*v[i-1]*a/mu\n",
    "    cd[i]=(24/Re[i])+(6/(1+np.sqrt(Re[i])))+0.4\n",
    "    D[i]=0.5*rhoa*v[i-1]**2*np.pi*a**2*cd[i]\n",
    "    v[i]=v[i-1]-0.25*(g-D[i]/mp)\n"
   ]
  },
  {
   "cell_type": "code",
   "execution_count": 47,
   "metadata": {},
   "outputs": [
    {
     "data": {
      "text/plain": [
       "0.0"
      ]
     },
     "execution_count": 47,
     "metadata": {},
     "output_type": "execute_result"
    }
   ],
   "source": [
    "g-(D[0]/mp)"
   ]
  },
  {
   "cell_type": "markdown",
   "metadata": {},
   "source": [
    "# 1.3.5"
   ]
  },
  {
   "cell_type": "code",
   "execution_count": 2,
   "metadata": {},
   "outputs": [],
   "source": [
    "import numpy as np\n",
    "import matplotlib.pyplot as plt"
   ]
  },
  {
   "cell_type": "code",
   "execution_count": 3,
   "metadata": {},
   "outputs": [],
   "source": [
    "b=[0,0,0,0,1]\n",
    "A=np.array([[1,1, 0, 0,-1],\n",
    "          [0, -1, 1, 1,-1],\n",
    "          [0, 1/2, 0, -1,-1/2],\n",
    "          [0, -1/6, 0, 1/2,-1/6],\n",
    "          [0, 1/24, 0, -1/6,-1/24]])"
   ]
  },
  {
   "cell_type": "code",
   "execution_count": 4,
   "metadata": {
    "scrolled": true
   },
   "outputs": [
    {
     "data": {
      "text/plain": [
       "array([-4.,  5.,  4.,  2.,  1.])"
      ]
     },
     "execution_count": 4,
     "metadata": {},
     "output_type": "execute_result"
    }
   ],
   "source": [
    "x=(-1/6)*np.matmul(np.linalg.inv(A),b)\n",
    "x"
   ]
  },
  {
   "cell_type": "markdown",
   "metadata": {},
   "source": [
    "## Lecture 2 excercise"
   ]
  },
  {
   "cell_type": "markdown",
   "metadata": {},
   "source": [
    "### Best implicit one-step method\n",
    "[$\\alpha,\\beta_1,\\beta_2,1$]"
   ]
  },
  {
   "cell_type": "code",
   "execution_count": 25,
   "metadata": {},
   "outputs": [
    {
     "data": {
      "text/plain": [
       "array([-1. , -0.5, -0.5,  1. ])"
      ]
     },
     "execution_count": 25,
     "metadata": {},
     "output_type": "execute_result"
    }
   ],
   "source": [
    "b=[0,0,0,1]\n",
    "A=np.array([[1,0,0,-1],\n",
    "           [0,1,1,-1],\n",
    "           [0,1,0,1/2],\n",
    "           [0,1/2,0,1/6]])\n",
    "x=np.matmul(np.linalg.inv(A),b)\n",
    "x/-12"
   ]
  },
  {
   "cell_type": "markdown",
   "metadata": {},
   "source": [
    "# Homework 1\n",
    "## 1)\n",
    "$v^{n+1}=\\alpha_1 v^n+\\alpha_2 v^{n-1}+\\beta_1\\Delta tf(v^n)+\\beta_2\\Delta tf(v^{n-1})$"
   ]
  },
  {
   "cell_type": "code",
   "execution_count": 10,
   "metadata": {},
   "outputs": [
    {
     "data": {
      "text/plain": [
       "array([-4.,  5.,  4.,  2.])"
      ]
     },
     "execution_count": 10,
     "metadata": {},
     "output_type": "execute_result"
    }
   ],
   "source": [
    "A=np.array([[1,1,0,0,-1],\n",
    "           [0,-1,1,1,-1],\n",
    "           [0,1/2,0,-1,-1/2],\n",
    "           [0,-1/6,0,1/2,-1/6],\n",
    "           [0,1/24,0,-1/6,-1/24]])\n",
    "b=[0,0,0,0,1]\n",
    "x=np.matmul(np.linalg.inv(A),b)\n",
    "x[0:-1]/x[-1]"
   ]
  },
  {
   "cell_type": "markdown",
   "metadata": {},
   "source": [
    "## 2)\n",
    "$v^{n+1}=\\alpha_1 v^n+\\alpha_2 v^{n-1}+\\beta_0\\Delta tf(v^{n+1})+\\beta_1\\Delta tf(v^n)+\\beta_2\\Delta tf(v^{n-1})$"
   ]
  },
  {
   "cell_type": "code",
   "execution_count": 18,
   "metadata": {},
   "outputs": [
    {
     "name": "stdout",
     "output_type": "stream",
     "text": [
      "[  0.  90.  30. 120.  30.  90.]\n",
      "[0.         1.         0.33333333 1.33333333 0.33333333]\n"
     ]
    }
   ],
   "source": [
    "A=np.array([[1,1,0,0,0,-1],\n",
    "           [0,-1,1,1,1,-1],\n",
    "           [0,1/2,1,0,-1,-1/2],\n",
    "           [0,-1/6,1/2,0,1/2,-1/6],\n",
    "           [0,1/24,1/6,0,-1/6,-1/24],\n",
    "           [0,-1/120,1/24,0,1/24,-1/120]])\n",
    "b=[0,0,0,0,0,1]\n",
    "x=np.matmul(np.linalg.inv(A),b)\n",
    "print(x)\n",
    "print(x[0:-1]/x[-1])"
   ]
  },
  {
   "cell_type": "markdown",
   "metadata": {},
   "source": [
    "# Lecture 3: Pendulum problem"
   ]
  },
  {
   "cell_type": "code",
   "execution_count": 29,
   "metadata": {},
   "outputs": [],
   "source": [
    "import numpy as np\n",
    "import matplotlib.pyplot as plt\n",
    "def derivate (g,l,u):\n",
    "    theta=u[0]\n",
    "    theta_dot=u[1]\n",
    "    theta_ddot=-g*theta/l\n",
    "    return np.array([theta_dot,theta_ddot])\n"
   ]
  },
  {
   "cell_type": "code",
   "execution_count": 49,
   "metadata": {},
   "outputs": [
    {
     "data": {
      "text/plain": [
       "[<matplotlib.lines.Line2D at 0x21b0a5e6f60>,\n",
       " <matplotlib.lines.Line2D at 0x21b0a5ef0f0>]"
      ]
     },
     "execution_count": 49,
     "metadata": {},
     "output_type": "execute_result"
    },
    {
     "data": {
      "image/png": "[encoded data removed]",
      "text/plain": [
       "<matplotlib.figure.Figure at 0x21b0916c7f0>"
      ]
     },
     "metadata": {},
     "output_type": "display_data"
    }
   ],
   "source": [
    "#Forward euler\n",
    "u0=np.array([1,0]);g=9.8;l=5\n",
    "dt=0.001;T=60;history=[]\n",
    "for t in np.arange(0,T,dt):\n",
    "    dudt=derivate(g,l,u0)\n",
    "    u=u0+dt*dudt\n",
    "    u0=u\n",
    "    history.append(u0)\n",
    "plt.plot(history)"
   ]
  },
  {
   "cell_type": "code",
   "execution_count": null,
   "metadata": {},
   "outputs": [],
   "source": [
    "#Midpoint Method\n",
    "u0=np.array([1,0]);g=9.8;l=5\n",
    "dt=0.1;T=60;history=[]\n",
    "for t in np.arange(0,T,dt):\n",
    "    dudt=derivate(g,l,u0)\n",
    "    u=u0+dt*dudt\n",
    "    u0=u\n",
    "    history.append(u0)\n",
    "plt.plot(history)"
   ]
  },
  {
   "cell_type": "code",
   "execution_count": null,
   "metadata": {},
   "outputs": [],
   "source": []
  }
 ],
 "metadata": {
  "kernelspec": {
   "display_name": "Python 3",
   "language": "python",
   "name": "python3"
  },
  "language_info": {
   "codemirror_mode": {
    "name": "ipython",
    "version": 3
   },
   "file_extension": ".py",
   "mimetype": "text/x-python",
   "name": "python",
   "nbconvert_exporter": "python",
   "pygments_lexer": "ipython3",
   "version": "3.6.4"
  }
 },
 "nbformat": 4,
 "nbformat_minor": 2
}
